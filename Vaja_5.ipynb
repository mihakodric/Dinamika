{
  "nbformat": 4,
  "nbformat_minor": 0,
  "metadata": {
    "colab": {
      "name": "Vaja 5.ipynb",
      "provenance": [],
      "collapsed_sections": [],
      "toc_visible": true,
      "authorship_tag": "ABX9TyObTL2tIB0MXADaltN4rRh/",
      "include_colab_link": true
    },
    "kernelspec": {
      "name": "python3",
      "display_name": "Python 3"
    },
    "language_info": {
      "name": "python"
    }
  },
  "cells": [
    {
      "cell_type": "markdown",
      "metadata": {
        "id": "view-in-github",
        "colab_type": "text"
      },
      "source": [
        "<a href=\"https://colab.research.google.com/github/mihakodric/Dinamika/blob/main/Vaja_5.ipynb\" target=\"_parent\"><img src=\"https://colab.research.google.com/assets/colab-badge.svg\" alt=\"Open In Colab\"/></a>"
      ]
    },
    {
      "cell_type": "markdown",
      "source": [
        "# Vaja 5: Kinetika sistema masnih točk\n",
        "\n",
        "## Skupna masa sistema:  $m_{\\text{s}}=\\sum m_{i}$\n",
        "\n",
        "## Masno središče:  $\\mathbf{r}_{\\text{T}} = x_{\\text{T}}\\mathbf{i}+y_{\\text{T}}\\mathbf{j}$\n",
        ">#### $x$-smer: $\\quad x_{\\text{T}}=\\frac{\\sum x_{i} \\cdot m_{i}}{m_{\\text{s}}}$\n",
        ">#### $y$-smer: $\\quad y_{\\text{T}}=\\frac{\\sum y_{i} \\cdot m_{i}}{m_{\\text{s}}}$\n",
        "\n",
        "## Gibalna količina: $\\mathbf{p}_{\\text{s}}=\\sum m_{i} \\cdot \\dot{\\mathbf{r}}_{i} = m_{\\text{s}}\\cdot \\dot{\\mathbf{r}}_{\\text{s}}$\n",
        "\n",
        ">#### Sprememba gibalne količine\n",
        "$\\sum\\mathbf{F}=m_{\\text{s}}\\cdot \\ddot{\\mathbf{r}}_{\\text{T}}$\n",
        "\n",
        "## Vrtilna količina: $\\mathbf{L}=\\sum \\mathbf{r}_{i}\\times m_{i}\\dot{\\mathbf{r}}_{i} = \n",
        "\\mathbf{r}_{\\text{T}}\\times m_{\\text{s}}\\dot{\\mathbf{r}}_{\\text{T}}+\\sum \\mathbf{\\rho}\\times m_{i}\\dot{\\mathbf{\\rho}}_{i} \n",
        "$\n",
        "\n",
        ">#### Sprememba vrtilne količine\n",
        "$\\sum\\mathbf{M}=\\sum\\mathbf{r}_{i}\\mathbf{F}_{i}=\\mathbf{r}_{\\text{T}}\\times m_{\\text{s}}\\ddot{\\mathbf{r}}_{\\text{T}}+\\sum \\mathbf{\\rho}\\times m_{i}\\ddot{\\mathbf{\\rho}}_{i} $\n",
        "\n",
        "## Energijske razmere\n",
        ">#### Mehansko delo sile\n",
        "$W_{12} = \\sum W_{12, i}$\n",
        "\n",
        ">#### Kinetična energija\n",
        "$E_{\\text{k}} = \\sum \\frac{m_{\\text{i}}\\cdot \\dot{r}^2_{i}}{2} = \\frac{m_{\\text{s}}\\cdot \\dot{r}^2_{\\text{T}}}{2} + \n",
        "\\sum \\frac{m_{\\text{i}}\\cdot \\dot{\\rho}^2_{i}}{2}$\n",
        "\n",
        ">#### Potencialna energija\n",
        "$E_{\\text{p}} = \\sum m_{\\text{i}}\\cdot g \\cdot y_{i} = m_{\\text{s}}\\cdot g \\cdot y_{\\text{T}}$ "
      ],
      "metadata": {
        "id": "Sq66r0MBDYoH"
      }
    },
    {
      "cell_type": "markdown",
      "source": [
        "# Naloga 1\n",
        "Prizmi A in B sta zloženi, kot je prikazano na sliki. \n",
        "Zaradi sile teže se sistem prične premikati iz mirovanja. \n",
        "Določite premik prizme A v trenutku, ko prizma B zadane $x$ os. \n",
        "Trenje zanemarite."
      ],
      "metadata": {
        "id": "TxPzID4o-Dd2"
      }
    },
    {
      "cell_type": "code",
      "source": [
        "import numpy as np\n",
        "import matplotlib.pyplot as plt"
      ],
      "metadata": {
        "id": "EcO6OYXF-Nio"
      },
      "execution_count": 33,
      "outputs": []
    },
    {
      "cell_type": "code",
      "source": [
        "# predpostavimo podatke\n",
        "a = 2\n",
        "b = 1\n",
        "m_A = 2\n",
        "m_B = 1\n",
        "\n",
        "x_A = 1 / (m_A + m_B) * (m_B*a - m_B*b)\n",
        "x_A"
      ],
      "metadata": {
        "colab": {
          "base_uri": "https://localhost:8080/"
        },
        "id": "XsVKzkbX-PIn",
        "outputId": "10f48186-586a-446e-a1c5-0f2c67742743"
      },
      "execution_count": 34,
      "outputs": [
        {
          "output_type": "execute_result",
          "data": {
            "text/plain": [
              "0.3333333333333333"
            ]
          },
          "metadata": {},
          "execution_count": 34
        }
      ]
    },
    {
      "cell_type": "markdown",
      "source": [
        "# Naloga 2\n",
        "Biljardna krogla A potuje z začetno hitrostjo $v_0$. \n",
        "Po trku s kroglama B in C se vse dotaknejo stene, kot je prikazano na sliki. \n",
        "Določite hitrost krogel pri dotiku s steno. \n",
        "Trenje zanemarite ter privzemite idealno elastičen trk krogel."
      ],
      "metadata": {
        "id": "P7ecNkZAV1dA"
      }
    },
    {
      "cell_type": "code",
      "source": [
        "v0 = 10\n",
        "\n",
        "# pri reševanju dobimo sistem 4 nellinearnih enačb s štirimi neznankami \n",
        "# to lahko ročno rešimo z ispostavljanjem, v pythonu pa si lahko pomagamo \n",
        "# z numeričnim reševanjem s knjižnico scipy\n",
        "\n",
        "from scipy.optimize import fsolve\n",
        "\n",
        "def equations(p):\n",
        "    vA, vBx, vBy, vC = p\n",
        "    return vBx+vC-v0, vA-vBy, vA**2+vBx**2+vBy**2+vC**2-v0**2, 2*vA-1.5*vBy-1.2*vC+0.8*v0\n",
        "\n",
        "vA, vBx, vBy, vC = fsolve(equations, (5, 5, 5, 5)) # vektor (5, 5, 5, 5) so začetni približki rešitev\n",
        "print(vA, vBx, vBy, vC)"
      ],
      "metadata": {
        "id": "25DaTcCYXBxz",
        "colab": {
          "base_uri": "https://localhost:8080/"
        },
        "outputId": "a73ad872-56f0-43bf-a6c0-8de0ca07dedf"
      },
      "execution_count": 35,
      "outputs": [
        {
          "output_type": "stream",
          "name": "stdout",
          "text": [
            "3.7997574710720663 1.7501010537199726 3.7997574710720663 8.249898946280029\n"
          ]
        }
      ]
    },
    {
      "cell_type": "markdown",
      "source": [
        "# Naloga 3\n",
        "Motor mešalca epruvet deluje na gred z momentom $M$. \n",
        "Izračunajte čas $t_1$, ki je potreben, da štiri epruvete mase $m$ zavrtimo do kotne hitrosti $\\omega_1$. \n",
        "Kolikšen je kot zasuka mešalca $\\varphi_1$, ki se je zgodil v tem času?"
      ],
      "metadata": {
        "id": "s-pGJqTtj4A2"
      }
    },
    {
      "cell_type": "code",
      "source": [
        "# predpostavimo podatke\n",
        "r = 0.2\n",
        "M = 1\n",
        "m = 0.05\n",
        "omega_1 = 10\n",
        "\n",
        "# prepis kotne hitrosti v odvisnosti od časa:\n",
        "def omega(t):\n",
        "  return (M*t) / (4*r**2*m)\n",
        "\n",
        "t = np.linspace(0, 10, 100)\n",
        "\n",
        "plt.plot(t, omega(t))\n",
        "plt.xlabel(\"$t$ [s]\")\n",
        "plt.ylabel(\"$\\dot{\\phi}$ [rad/s]\")\n",
        "plt.grid();"
      ],
      "metadata": {
        "id": "yrTAXQj8iyKA",
        "colab": {
          "base_uri": "https://localhost:8080/",
          "height": 283
        },
        "outputId": "d1e845e0-7bdf-4731-eb08-cd22e499eba9"
      },
      "execution_count": 36,
      "outputs": [
        {
          "output_type": "display_data",
          "data": {
            "text/plain": [
              "<Figure size 432x288 with 1 Axes>"
            ],
            "image/png": "[encoded data removed]"
          },
          "metadata": {
            "needs_background": "light"
          }
        }
      ]
    },
    {
      "cell_type": "code",
      "source": [
        "# prepis zasuka v odvisnosti od časa:\n",
        "def phi(t):\n",
        "  return (M*t**2/2) / (4*r**2*m)\n",
        "\n",
        "t = np.linspace(0, 10, 100)\n",
        "\n",
        "plt.plot(t, phi(t))\n",
        "plt.xlabel(\"$t$ [s]\")\n",
        "plt.ylabel(\"$\\phi$ [rad]\")\n",
        "plt.grid();"
      ],
      "metadata": {
        "colab": {
          "base_uri": "https://localhost:8080/",
          "height": 283
        },
        "id": "IOK_h9HsRZaI",
        "outputId": "a1a6a6be-dbef-46b9-deb5-624a99cdb097"
      },
      "execution_count": 37,
      "outputs": [
        {
          "output_type": "display_data",
          "data": {
            "text/plain": [
              "<Figure size 432x288 with 1 Axes>"
            ],
            "image/png": "[encoded data removed]"
          },
          "metadata": {
            "needs_background": "light"
          }
        }
      ]
    },
    {
      "cell_type": "code",
      "source": [
        ""
      ],
      "metadata": {
        "id": "PmmD1HZXRkGv"
      },
      "execution_count": 37,
      "outputs": []
    }
  ]
}