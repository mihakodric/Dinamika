{
  "nbformat": 4,
  "nbformat_minor": 0,
  "metadata": {
    "colab": {
      "name": "Vaja 13.ipynb",
      "provenance": [],
      "collapsed_sections": [],
      "toc_visible": true,
      "authorship_tag": "ABX9TyPyk4yOTTM47ukHNSzc2NcQ",
      "include_colab_link": true
    },
    "kernelspec": {
      "name": "python3",
      "display_name": "Python 3"
    },
    "language_info": {
      "name": "python"
    }
  },
  "cells": [
    {
      "cell_type": "markdown",
      "metadata": {
        "id": "view-in-github",
        "colab_type": "text"
      },
      "source": [
        "<a href=\"https://colab.research.google.com/github/mihakodric/Dinamika/blob/main/Vaja_13.ipynb\" target=\"_parent\"><img src=\"https://colab.research.google.com/assets/colab-badge.svg\" alt=\"Open In Colab\"/></a>"
      ]
    },
    {
      "cell_type": "markdown",
      "source": [
        "# Vaja 13: Vsiljena nihanja\n",
        "\n"
      ],
      "metadata": {
        "id": "Sq66r0MBDYoH"
      }
    },
    {
      "cell_type": "markdown",
      "source": [
        "# Naloga 1\n",
        "Kot konstrukter podjetja Svetila d.d. vas zanima odpornost obcestnih svetilk na vandalska dejanja. Za svetilko uporabite nadomestni model, kot je prikazan na sliki. Če steber vzbujata dve osebi s silo $F(t)$, potem določite:\n",
        " - gibalno enačbo sistema,\n",
        " - amplitudo nihanja žarnice v luči in\n",
        " - največji pospešek žarnice.\n",
        "Predpostavite ustaljeno stanje in majhne zasuke. Zanemarite težnostni pospešek."
      ],
      "metadata": {
        "id": "TxPzID4o-Dd2"
      }
    },
    {
      "cell_type": "code",
      "source": [
        "import numpy as np\n",
        "import matplotlib.pyplot as plt"
      ],
      "metadata": {
        "id": "EcO6OYXF-Nio"
      },
      "execution_count": 1,
      "outputs": []
    },
    {
      "cell_type": "code",
      "source": [
        "a = 8\n",
        "b = 3.5\n",
        "c = 1.5\n",
        "m_s = 250\n",
        "m_L = 25\n",
        "k = 20 * 10**3\n",
        "d = 2 * 10**3\n",
        "F0 = 800\n",
        "omega = 2*np.pi\n",
        "J_s = 800\n",
        "\n",
        "J_A = J_s + m_s*b**2 + m_L*a**2\n",
        "\n",
        "omega0 = np.sqrt((k) / (J_A))\n",
        "delta = d / (2*omega0*J_A)\n",
        "omega0, delta"
      ],
      "metadata": {
        "colab": {
          "base_uri": "https://localhost:8080/"
        },
        "id": "XsVKzkbX-PIn",
        "outputId": "4f58d325-5d60-4f35-ed7c-fa7b13e4d09d"
      },
      "execution_count": 2,
      "outputs": [
        {
          "output_type": "execute_result",
          "data": {
            "text/plain": [
              "(1.9134594929397595, 0.09567297464698798)"
            ]
          },
          "metadata": {},
          "execution_count": 2
        }
      ]
    },
    {
      "cell_type": "code",
      "source": [
        "f_0 = F0*c / J_A\n",
        "\n",
        "Phi_0 = f_0/omega0**2\n",
        "beta = 1 / np.sqrt((1-(omega/omega0)**2)**2+(2*delta*omega/omega0)**2)\n",
        "Phi = Phi_0 * beta\n",
        "\n",
        "X = Phi*a\n",
        "Phi, X"
      ],
      "metadata": {
        "colab": {
          "base_uri": "https://localhost:8080/"
        },
        "id": "n6utrXJK3_i9",
        "outputId": "fdb03892-c3e3-4cc4-80e0-3e9feb4ab26d"
      },
      "execution_count": 6,
      "outputs": [
        {
          "output_type": "execute_result",
          "data": {
            "text/plain": [
              "(0.00612076262536539, 0.04896610100292312)"
            ]
          },
          "metadata": {},
          "execution_count": 6
        }
      ]
    },
    {
      "cell_type": "code",
      "source": [
        "ddPhi = Phi*omega**2\n",
        "ddX = ddPhi*a\n",
        "\n",
        "ddPhi, ddX"
      ],
      "metadata": {
        "colab": {
          "base_uri": "https://localhost:8080/"
        },
        "id": "3cIE-2i6_IHS",
        "outputId": "72d32fa4-ada8-4ee2-d63a-a9827376a6b0"
      },
      "execution_count": 7,
      "outputs": [
        {
          "output_type": "execute_result",
          "data": {
            "text/plain": [
              "(0.241638022981318, 1.933104183850544)"
            ]
          },
          "metadata": {},
          "execution_count": 7
        }
      ]
    },
    {
      "cell_type": "code",
      "source": [
        "r = np.linspace(0, 5, 200)\n",
        "beta_r = 1 / np.sqrt((1-(r)**2)**2+(2*delta*r)**2)\n",
        "\n",
        "plt.plot(r, beta_r)\n",
        "plt.xlabel(\"$\\\\omega/\\\\omega_0$\")\n",
        "plt.ylabel(\"$\\\\beta$\")\n",
        "plt.axvline(omega/omega0, c = 'k')\n",
        "plt.grid();"
      ],
      "metadata": {
        "colab": {
          "base_uri": "https://localhost:8080/",
          "height": 283
        },
        "id": "32RSVDQS_aqB",
        "outputId": "6a158054-dd59-4430-a770-6194e38b1555"
      },
      "execution_count": 22,
      "outputs": [
        {
          "output_type": "display_data",
          "data": {
            "text/plain": [
              "<Figure size 432x288 with 1 Axes>"
            ],
            "image/png": "[encoded data removed]"
          },
          "metadata": {
            "needs_background": "light"
          }
        }
      ]
    },
    {
      "cell_type": "markdown",
      "source": [
        "# Naloga 2\n",
        "Sistem na sliki je sestavljen iz mase $m$, vzmeti $k$ in dveh dušilk $d$. Masa se lahko giblje samo v vertikalni smeri, v kateri je tudi vzbujana s silo $F(t)$.\n",
        " - Izračunajte lastno nedušeno krožno frekvenco $\\omega_{01}$, razmernik dušenja $\\delta$, amplitudo nihanja mase $X$ in kot zaostajanja $\\varphi$ mase za vzbujanjem. Določite še, ali je sistem vzbujan pod- ali nad-resonančno.\n",
        " - Izračunajte, pri kakšni frekvenci vzbujanja $\\omega$ bo masa nedušenega sistema nihala z $X_Z$.\n",
        " \n",
        "Predpostavite majhne zasuke."
      ],
      "metadata": {
        "id": "P7ecNkZAV1dA"
      }
    },
    {
      "cell_type": "code",
      "source": [
        "m = 3\n",
        "k = 1 * 10**3\n",
        "d = 10\n",
        "F0 = 10\n",
        "omega = 2*2*np.pi\n",
        "X_z = 0.001\n",
        "\n",
        "omega0 = np.sqrt(k/m)\n",
        "delta = (d) / (omega0*m)\n",
        "omega0, delta"
      ],
      "metadata": {
        "id": "25DaTcCYXBxz",
        "colab": {
          "base_uri": "https://localhost:8080/"
        },
        "outputId": "9e3e3d9f-ff1c-460c-cd32-fe0722a6fe64"
      },
      "execution_count": 24,
      "outputs": [
        {
          "output_type": "execute_result",
          "data": {
            "text/plain": [
              "(18.257418583505537, 0.18257418583505539)"
            ]
          },
          "metadata": {},
          "execution_count": 24
        }
      ]
    },
    {
      "cell_type": "code",
      "source": [
        "f_0 = F0/m\n",
        "\n",
        "X_0 = f_0/omega0**2\n",
        "beta = 1 / np.sqrt((1-(omega/omega0)**2)**2+(2*delta*omega/omega0)**2)\n",
        "X = X_0*beta\n",
        "\n",
        "phi = np.arctan((2*delta*omega/omega0) / (1-(omega/omega0)**2))\n",
        "\n",
        "X, phi"
      ],
      "metadata": {
        "colab": {
          "base_uri": "https://localhost:8080/"
        },
        "id": "RvrydxAH5Cy6",
        "outputId": "4746fe59-8156-4626-bf77-28d61ec691d9"
      },
      "execution_count": 26,
      "outputs": [
        {
          "output_type": "execute_result",
          "data": {
            "text/plain": [
              "(0.0171469843303856, 0.44554608698366893)"
            ]
          },
          "metadata": {},
          "execution_count": 26
        }
      ]
    },
    {
      "cell_type": "code",
      "source": [
        "omega_2 = np.sqrt(f_0/X_z+omega0**2)\n",
        "omega_2"
      ],
      "metadata": {
        "colab": {
          "base_uri": "https://localhost:8080/"
        },
        "id": "cyhA5OQyBkb6",
        "outputId": "3d4633a3-85b1-4ec9-b8cf-bf6bf2b5e0a6"
      },
      "execution_count": 28,
      "outputs": [
        {
          "output_type": "execute_result",
          "data": {
            "text/plain": [
              "60.553007081949836"
            ]
          },
          "metadata": {},
          "execution_count": 28
        }
      ]
    },
    {
      "cell_type": "code",
      "source": [
        "r = np.linspace(0, 5, 200)\n",
        "beta_r = 1 / np.sqrt((1-(r)**2)**2+(2*delta*r)**2)\n",
        "\n",
        "plt.plot(r, beta_r)\n",
        "plt.xlabel(\"$\\\\omega/\\\\omega_0$\")\n",
        "plt.ylabel(\"$\\\\beta$\")\n",
        "plt.axvline(omega/omega0, c = 'k')\n",
        "plt.axvline(omega_2/omega0, c = 'k')\n",
        "plt.grid();"
      ],
      "metadata": {
        "colab": {
          "base_uri": "https://localhost:8080/",
          "height": 283
        },
        "id": "q3hLTsEPByFQ",
        "outputId": "b0d52e89-d775-4ae9-8236-75d842ea7c16"
      },
      "execution_count": 30,
      "outputs": [
        {
          "output_type": "display_data",
          "data": {
            "text/plain": [
              "<Figure size 432x288 with 1 Axes>"
            ],
            "image/png": "[encoded data removed]"
          },
          "metadata": {
            "needs_background": "light"
          }
        }
      ]
    },
    {
      "cell_type": "code",
      "source": [
        ""
      ],
      "metadata": {
        "id": "PmmD1HZXRkGv"
      },
      "execution_count": null,
      "outputs": []
    }
  ]
}