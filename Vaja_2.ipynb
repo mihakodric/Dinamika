{
  "nbformat": 4,
  "nbformat_minor": 0,
  "metadata": {
    "colab": {
      "name": "Vaja 2.ipynb",
      "provenance": [],
      "collapsed_sections": [],
      "toc_visible": true,
      "authorship_tag": "ABX9TyOwxnI4cEIsdpFp3Zba09I3",
      "include_colab_link": true
    },
    "kernelspec": {
      "name": "python3",
      "display_name": "Python 3"
    },
    "language_info": {
      "name": "python"
    }
  },
  "cells": [
    {
      "cell_type": "markdown",
      "metadata": {
        "id": "view-in-github",
        "colab_type": "text"
      },
      "source": [
        "<a href=\"https://colab.research.google.com/github/mihakodric/Dinamika/blob/main/Vaja_2.ipynb\" target=\"_parent\"><img src=\"https://colab.research.google.com/assets/colab-badge.svg\" alt=\"Open In Colab\"/></a>"
      ]
    },
    {
      "cell_type": "markdown",
      "source": [
        "# Vaja 2: Kinematika točke\n",
        "\n",
        "## Naravni koordinatni sistem\n",
        "Koordinatni sistem se premika skupaj z opazovano točko.\n",
        "\n",
        "## Polarni koordinatni sistem\n",
        "$r(t)$ in $\\phi(t)$"
      ],
      "metadata": {
        "id": "Sq66r0MBDYoH"
      }
    },
    {
      "cell_type": "markdown",
      "source": [
        "# Naloga 1\n",
        "Zaradi neravnin na cesti voznica avtomobila zavira z enakomernim pojemkom. Njena hitrost na dnu (točka A) je 100 km/h, na vrhu (točka C) pa 50 km/h. Dolžina ceste med točkama A in C je 120 m. Če sopotniki v točki A občutijo skupni pospešek 3 m/s$^2$, ter če je radij ukrivljenosti v točki C enak 150 m, izračunajte:\n",
        " - radij ukrivljenosti $\\rho$ v točki A,\n",
        " - skupni pospešek na točki prevoja B,\n",
        " - skupni pospešek v točki C."
      ],
      "metadata": {
        "id": "P7ecNkZAV1dA"
      }
    },
    {
      "cell_type": "code",
      "source": [
        "import numpy as np\n",
        "import matplotlib.pyplot as plt"
      ],
      "metadata": {
        "id": "t2S4fLz9DXpd"
      },
      "execution_count": null,
      "outputs": []
    },
    {
      "cell_type": "code",
      "source": [
        "v_A = 100/3.6\n",
        "v_C = 50/3.6\n",
        "l_AC = 120\n",
        "rho_C = 150\n",
        "a_A = 3\n",
        "\n",
        "a_t = (v_C**2-v_A**2) / (2*l_AC)\n",
        "a_t"
      ],
      "metadata": {
        "id": "25DaTcCYXBxz",
        "colab": {
          "base_uri": "https://localhost:8080/"
        },
        "outputId": "fc7fa082-e353-44de-bc82-dda987b19610"
      },
      "execution_count": null,
      "outputs": [
        {
          "output_type": "execute_result",
          "data": {
            "text/plain": [
              "-2.4112654320987654"
            ]
          },
          "metadata": {},
          "execution_count": 4
        }
      ]
    },
    {
      "cell_type": "code",
      "source": [
        "a_nA = np.sqrt(a_A**2 - a_t**2)\n",
        "a_nA"
      ],
      "metadata": {
        "colab": {
          "base_uri": "https://localhost:8080/"
        },
        "id": "MCOxkhsGtVL1",
        "outputId": "852593b7-534e-47c3-a477-974af2c416f5"
      },
      "execution_count": null,
      "outputs": [
        {
          "output_type": "execute_result",
          "data": {
            "text/plain": [
              "1.7848806727525386"
            ]
          },
          "metadata": {},
          "execution_count": 5
        }
      ]
    },
    {
      "cell_type": "code",
      "source": [
        "rho_A = v_A**2/a_nA\n",
        "rho_A"
      ],
      "metadata": {
        "colab": {
          "base_uri": "https://localhost:8080/"
        },
        "id": "EAdWVDqTtkJY",
        "outputId": "877e5aee-2863-47cc-9a28-ecf2bff92fdd"
      },
      "execution_count": null,
      "outputs": [
        {
          "output_type": "execute_result",
          "data": {
            "text/plain": [
              "432.3005733944561"
            ]
          },
          "metadata": {},
          "execution_count": 6
        }
      ]
    },
    {
      "cell_type": "code",
      "source": [
        "a_B = a_t\n",
        "a_B"
      ],
      "metadata": {
        "colab": {
          "base_uri": "https://localhost:8080/"
        },
        "id": "22NmeH-VtziJ",
        "outputId": "1166de1b-4c8a-4a52-a888-7e8a4b9e378c"
      },
      "execution_count": null,
      "outputs": [
        {
          "output_type": "execute_result",
          "data": {
            "text/plain": [
              "-2.4112654320987654"
            ]
          },
          "metadata": {},
          "execution_count": 7
        }
      ]
    },
    {
      "cell_type": "code",
      "source": [
        "a_nC = v_C**2 / rho_C\n",
        "a_C = np.sqrt(a_nC**2 + a_t**2)\n",
        "a_C"
      ],
      "metadata": {
        "colab": {
          "base_uri": "https://localhost:8080/"
        },
        "id": "koAgRfB2t3eS",
        "outputId": "bf3e6892-cf15-442a-bbbc-c759cd537d4a"
      },
      "execution_count": null,
      "outputs": [
        {
          "output_type": "execute_result",
          "data": {
            "text/plain": [
              "2.732767489711934"
            ]
          },
          "metadata": {},
          "execution_count": 8
        }
      ]
    },
    {
      "cell_type": "markdown",
      "source": [
        "# Naloga 2\n",
        "Lestev gasilskega tovornjaka je narejena tako, da se izvleče s konstantno hitrostjo $\\dot{l}=150$ mm/s, obenem pa se vrti s $\\dot{\\varphi}=2^{\\circ}$/s. V položaju lestve $\\varphi=50^{\\circ}$ in $l=4$ m določite velikost hitrosti in pospeška gasilca v točki A."
      ],
      "metadata": {
        "id": "s-pGJqTtj4A2"
      }
    },
    {
      "cell_type": "code",
      "source": [
        "R = 6\n",
        "l_ = 0.15\n",
        "phi_ = 2 * np.pi/180 \n",
        "\n",
        "phi = 50 * np.pi/180\n",
        "l=4"
      ],
      "metadata": {
        "id": "yrTAXQj8iyKA"
      },
      "execution_count": null,
      "outputs": []
    },
    {
      "cell_type": "code",
      "source": [
        "v_r = l_\n",
        "v_phi = (R+l) * phi_\n",
        "\n",
        "v = np.sqrt(v_r**2 + v_phi**2)\n",
        "v "
      ],
      "metadata": {
        "id": "msZ5LEV7kYoc",
        "colab": {
          "base_uri": "https://localhost:8080/"
        },
        "outputId": "258d9797-eb59-4f73-a39c-0a17827dd25c"
      },
      "execution_count": null,
      "outputs": [
        {
          "output_type": "execute_result",
          "data": {
            "text/plain": [
              "0.3799302145324631"
            ]
          },
          "metadata": {},
          "execution_count": 10
        }
      ]
    },
    {
      "cell_type": "code",
      "source": [
        "a_r = 0 - (R+l) * phi_**2\n",
        "a_phi = (R+l) * 0 + 2 * l_ * phi_\n",
        "\n",
        "a = np.sqrt(a_r**2 + a_phi**2)\n",
        "a "
      ],
      "metadata": {
        "colab": {
          "base_uri": "https://localhost:8080/"
        },
        "id": "1VNO3zV5kzBI",
        "outputId": "ce6a2b2f-5d11-4eba-ac73-a938e9251e89"
      },
      "execution_count": null,
      "outputs": [
        {
          "output_type": "execute_result",
          "data": {
            "text/plain": [
              "0.016066396827641036"
            ]
          },
          "metadata": {},
          "execution_count": 11
        }
      ]
    },
    {
      "cell_type": "markdown",
      "source": [
        "# Naloga 3\n",
        "Navpično izstreljeni raketi sledi radar. Ko je $\\varphi=60^{\\circ}$, so ostale izmerjene vrednosti naslednje:\n",
        " - $r=10000$ m,\n",
        " - $\\ddot{r}=25$ m/s$^2$,\n",
        " - $\\dot{\\varphi}=0,02$ rad/s.\n",
        "\n",
        "Izračunajte velikost hitrosti in pospeška rakete v tem položaju."
      ],
      "metadata": {
        "id": "SkKM9rfAjbq0"
      }
    },
    {
      "cell_type": "code",
      "source": [
        "phi = 60 *np.pi/180\n",
        "r = 10000\n",
        "r__ = 25\n",
        "phi_ = 0.02"
      ],
      "metadata": {
        "id": "Zz7N5t8olHAP"
      },
      "execution_count": null,
      "outputs": []
    },
    {
      "cell_type": "code",
      "source": [
        "v_phi = r * phi_\n",
        "v = v_phi / np.cos(phi)\n",
        "v"
      ],
      "metadata": {
        "colab": {
          "base_uri": "https://localhost:8080/"
        },
        "id": "MLBGxGchkou5",
        "outputId": "302e60f3-ea5c-45ee-c6e5-269cf9799bd2"
      },
      "execution_count": null,
      "outputs": [
        {
          "output_type": "execute_result",
          "data": {
            "text/plain": [
              "399.9999999999999"
            ]
          },
          "metadata": {},
          "execution_count": 16
        }
      ]
    },
    {
      "cell_type": "code",
      "source": [
        "a_r = r__ - r*phi_**2 \n",
        "a = a_r / np.sin(phi)\n",
        "a"
      ],
      "metadata": {
        "id": "ikYzQSH6kyVo",
        "colab": {
          "base_uri": "https://localhost:8080/"
        },
        "outputId": "58304183-1acd-4128-8307-3fc20e0c91e6"
      },
      "execution_count": null,
      "outputs": [
        {
          "output_type": "execute_result",
          "data": {
            "text/plain": [
              "24.248711305964285"
            ]
          },
          "metadata": {},
          "execution_count": 17
        }
      ]
    }
  ]
}