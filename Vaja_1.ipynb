{
  "nbformat": 4,
  "nbformat_minor": 0,
  "metadata": {
    "colab": {
      "name": "Vaja 1.ipynb",
      "provenance": [],
      "collapsed_sections": [],
      "authorship_tag": "ABX9TyPyu8f3pV9OiUbw2AA+iOHT",
      "include_colab_link": true
    },
    "kernelspec": {
      "name": "python3",
      "display_name": "Python 3"
    },
    "language_info": {
      "name": "python"
    }
  },
  "cells": [
    {
      "cell_type": "markdown",
      "metadata": {
        "id": "view-in-github",
        "colab_type": "text"
      },
      "source": [
        "<a href=\"https://colab.research.google.com/github/mihakodric/Dinamika/blob/main/Vaja_1.ipynb\" target=\"_parent\"><img src=\"https://colab.research.google.com/assets/colab-badge.svg\" alt=\"Open In Colab\"/></a>"
      ]
    },
    {
      "cell_type": "markdown",
      "source": [
        "# Vaja 1: Kinematika točke\n",
        "\n",
        "## Premočrno gibanje\n",
        "$x(t)$\n",
        "\n",
        "## Kartezijev koordinatni sistem\n",
        "$x(t)$ in $y(t)$"
      ],
      "metadata": {
        "id": "Sq66r0MBDYoH"
      }
    },
    {
      "cell_type": "markdown",
      "source": [
        "# Naloga 1\n",
        "Točka se pomika vzdolž $x$ osi z začetno hitrostjo $v_{x}=50$ m/s (pri času $t=0$ s). V prvih štirih sekundah ne pospešuje, nato pa nanju deluje zavirajoča sil, ki zagotovi konstanten pojemek $a_{x}=-10$ m/s$^{2}$.\n",
        "- Narišite hitrostni profil točke.\n",
        "- Izračunajte hitrost $v_{x}$ in $x$ koordinato točke pri $t_{1}=8$ s in $t_{2}=12$ s.\n",
        "- Poiščite največjo pozitivno $x$ koordinato, ki jo v tem času doseže točka. Določite tudi celotno pot, ki jo je točka opravila."
      ],
      "metadata": {
        "id": "P7ecNkZAV1dA"
      }
    },
    {
      "cell_type": "code",
      "source": [
        "import numpy as np\n",
        "import matplotlib.pyplot as plt"
      ],
      "metadata": {
        "id": "t2S4fLz9DXpd"
      },
      "execution_count": 1,
      "outputs": []
    },
    {
      "cell_type": "code",
      "source": [
        "vx_0 = 50\n",
        "ax_0 = 0\n",
        "ax_1 = -10\n",
        "\n",
        "mejni_časi = [0, 4, 12];\n",
        "časovni_korak = 0.01\n",
        "čas = np.concatenate([np.arange(mejni_časi[0], mejni_časi[1], časovni_korak), \n",
        "                      np.arange(mejni_časi[1], mejni_časi[2], časovni_korak)])\n",
        "\n",
        "def pomik_x(t):\n",
        "  if mejni_časi[0] <= t < mejni_časi[1]:\n",
        "    x = 50*t\n",
        "  else:\n",
        "    x = -10*t**2/2+90*t-80\n",
        "  return x\n",
        "\n",
        "def hitrost_x(t):\n",
        "  if mejni_časi[0] <= t < mejni_časi[1]:\n",
        "    v = vx_0\n",
        "  else:\n",
        "    v = -10*t + 90\n",
        "  return v\n",
        "\n",
        "def pospešek_x(t):\n",
        "  if mejni_časi[0] <= t < mejni_časi[1]:\n",
        "    a = ax_0\n",
        "  else:\n",
        "    a = ax_1\n",
        "  return a\n",
        "\n",
        "pomik = []\n",
        "hitrost = []\n",
        "pospešek = []\n",
        "for t in čas:\n",
        "  pomik.append(pomik_x(t))\n",
        "  hitrost.append(hitrost_x(t))\n",
        "  pospešek.append(pospešek_x(t))\n"
      ],
      "metadata": {
        "id": "25DaTcCYXBxz"
      },
      "execution_count": 2,
      "outputs": []
    },
    {
      "cell_type": "code",
      "source": [
        "fig, ax = plt.subplots()\n",
        "# ax.plot(čas, pomik, label = \"Pomik [m]\")\n",
        "ax.plot(čas, hitrost, label = \"Hitrost [m/s]\")\n",
        "ax.plot(čas, pospešek, label = \"Pospešek [m/s$^2$]\")\n",
        "ax.grid()\n",
        "ax.legend()\n",
        "plt.xlabel(\"t [s]\")"
      ],
      "metadata": {
        "id": "rxa_vhpaDpsz",
        "colab": {
          "base_uri": "https://localhost:8080/",
          "height": 296
        },
        "outputId": "9998c8e7-3a27-406d-b20a-fdd671aedc43"
      },
      "execution_count": 4,
      "outputs": [
        {
          "output_type": "execute_result",
          "data": {
            "text/plain": [
              "Text(0.5, 0, 't [s]')"
            ]
          },
          "metadata": {},
          "execution_count": 4
        },
        {
          "output_type": "display_data",
          "data": {
            "image/png": "[encoded data removed]",
            "text/plain": [
              "<Figure size 432x288 with 1 Axes>"
            ]
          },
          "metadata": {
            "needs_background": "light"
          }
        }
      ]
    },
    {
      "cell_type": "code",
      "source": [
        "t = [8, 12]\n",
        "print(\"x(t): \", [pomik_x(_) for _ in t])\n",
        "print(\"v(t): \", [hitrost_x(_) for _ in t])\n",
        "print(\"a(t): \", [pospešek_x(_) for _ in t])"
      ],
      "metadata": {
        "colab": {
          "base_uri": "https://localhost:8080/"
        },
        "id": "_OwCA-hagvcr",
        "outputId": "72827a86-0404-428b-eda8-81ae107a2d38"
      },
      "execution_count": 5,
      "outputs": [
        {
          "output_type": "stream",
          "name": "stdout",
          "text": [
            "x(t):  [320.0, 280.0]\n",
            "v(t):  [10, -30]\n",
            "a(t):  [-10, -10]\n"
          ]
        }
      ]
    },
    {
      "cell_type": "code",
      "source": [
        "fig, ax = plt.subplots()\n",
        "ax.plot(čas, pomik, label = \"Pomik [m]\")\n",
        "ax.plot(čas, hitrost, label = \"Hitrost [m/s]\")\n",
        "ax.plot(čas, pospešek, label = \"Pospešek [m/s$^2$]\")\n",
        "ax.set_yticks([pomik_x(0), pomik_x(9), pomik_x(12)])\n",
        "ax.set_xticks([0, 4, 9, 12])\n",
        "ax.grid()\n",
        "ax.legend()\n",
        "ax.axvline(9, c=\"k\")\n",
        "plt.xlabel(\"t [s]\")"
      ],
      "metadata": {
        "colab": {
          "base_uri": "https://localhost:8080/",
          "height": 296
        },
        "id": "mmXsAHVqhlho",
        "outputId": "03e20619-dbee-4dea-c57f-b257e34404b1"
      },
      "execution_count": 7,
      "outputs": [
        {
          "output_type": "execute_result",
          "data": {
            "text/plain": [
              "Text(0.5, 0, 't [s]')"
            ]
          },
          "metadata": {},
          "execution_count": 7
        },
        {
          "output_type": "display_data",
          "data": {
            "image/png": "[encoded data removed]",
            "text/plain": [
              "<Figure size 432x288 with 1 Axes>"
            ]
          },
          "metadata": {
            "needs_background": "light"
          }
        }
      ]
    },
    {
      "cell_type": "markdown",
      "source": [
        "# Naloga 2\n",
        "Ravninsko gibanje točke je definirano z $v_{x}(t)=50-16\\,t$ in $y(t)=100-4\\,t^{2}$, kjer je $v_{x}$ v [m/s], $t$ v [s] in $y$ v [m]. Znano je tudi, da je točka pri času $t=0$ s na položaju $x=0$.\n",
        " - Narišite pot, ki jo opravi točka.\n",
        " - Določite in narišite hitrost in pospešek, ko je dosežen položaj $y=0$."
      ],
      "metadata": {
        "id": "s-pGJqTtj4A2"
      }
    },
    {
      "cell_type": "code",
      "source": [
        "def položaj_x(t):\n",
        "  return -8*t**2 + 50*t\n",
        "\n",
        "def položaj_y(t):\n",
        "  return 100 - 4*t**2"
      ],
      "metadata": {
        "id": "yrTAXQj8iyKA"
      },
      "execution_count": 8,
      "outputs": []
    },
    {
      "cell_type": "code",
      "source": [
        "t_točke = np.array([0, 1, 2, 3, 4, 5])\n",
        "x_točke = položaj_x(t_točke)\n",
        "y_točke = položaj_y(t_točke)\n",
        "\n",
        "t = np.arange(0, 5, 0.001)\n",
        "x = položaj_x(t)\n",
        "y = položaj_y(t)"
      ],
      "metadata": {
        "id": "msZ5LEV7kYoc"
      },
      "execution_count": 9,
      "outputs": []
    },
    {
      "cell_type": "code",
      "source": [
        "fig, ax = plt.subplots()\n",
        "ax.plot(x, y)\n",
        "ax.scatter(x_točke, y_točke, marker = \"o\", c=\"C1\", zorder = 10)\n",
        "ax.set_aspect('equal')\n",
        "plt.grid()\n",
        "plt.xlabel(\"x [m]\")\n",
        "plt.ylabel(\"y [m]\")"
      ],
      "metadata": {
        "colab": {
          "base_uri": "https://localhost:8080/",
          "height": 296
        },
        "id": "1VNO3zV5kzBI",
        "outputId": "c70ea33c-35c0-473e-cacd-467c2d468d23"
      },
      "execution_count": 10,
      "outputs": [
        {
          "output_type": "execute_result",
          "data": {
            "text/plain": [
              "Text(0, 0.5, 'y [m]')"
            ]
          },
          "metadata": {},
          "execution_count": 10
        },
        {
          "output_type": "display_data",
          "data": {
            "image/png": "[encoded data removed]",
            "text/plain": [
              "<Figure size 432x288 with 1 Axes>"
            ]
          },
          "metadata": {
            "needs_background": "light"
          }
        }
      ]
    },
    {
      "cell_type": "markdown",
      "source": [
        "# Naloga 3\n",
        "Pilot letala bi rad odvrgel paket na točko A. Izračunajte kot $\\theta$ med direktno linijo (letalo - točka A) pri času, ki bi moral pilot izpustiti paket."
      ],
      "metadata": {
        "id": "SkKM9rfAjbq0"
      }
    },
    {
      "cell_type": "code",
      "source": [
        "vx = 500/3.6\n",
        "g = 9.81;\n",
        "L=100\n",
        "\n",
        "t = np.arange(0, 5, 0.01)\n",
        "\n",
        "x = vx*t\n",
        "y = -g*t**2/2 + L"
      ],
      "metadata": {
        "id": "Zz7N5t8olHAP"
      },
      "execution_count": 11,
      "outputs": []
    },
    {
      "cell_type": "code",
      "source": [
        "fig, ax = plt.subplots()\n",
        "ax.plot(x, y)\n",
        "ax.set_aspect('equal')\n",
        "plt.grid()\n",
        "plt.xlabel(\"x [m]\")\n",
        "plt.ylabel(\"y [m]\")"
      ],
      "metadata": {
        "colab": {
          "base_uri": "https://localhost:8080/",
          "height": 139
        },
        "id": "MLBGxGchkou5",
        "outputId": "51d0dacb-1ad1-4085-cc79-e802cfefbbb7"
      },
      "execution_count": 14,
      "outputs": [
        {
          "output_type": "execute_result",
          "data": {
            "text/plain": [
              "Text(0, 0.5, 'y [m]')"
            ]
          },
          "metadata": {},
          "execution_count": 14
        },
        {
          "output_type": "display_data",
          "data": {
            "image/png": "[encoded data removed]",
            "text/plain": [
              "<Figure size 432x288 with 1 Axes>"
            ]
          },
          "metadata": {
            "needs_background": "light"
          }
        }
      ]
    },
    {
      "cell_type": "code",
      "source": [
        ""
      ],
      "metadata": {
        "id": "ikYzQSH6kyVo"
      },
      "execution_count": null,
      "outputs": []
    }
  ]
}