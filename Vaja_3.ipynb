{
  "nbformat": 4,
  "nbformat_minor": 0,
  "metadata": {
    "colab": {
      "name": "Vaja 3.ipynb",
      "provenance": [],
      "collapsed_sections": [],
      "toc_visible": true,
      "authorship_tag": "ABX9TyOli7+UdB2naA/uFWLc0hgg",
      "include_colab_link": true
    },
    "kernelspec": {
      "name": "python3",
      "display_name": "Python 3"
    },
    "language_info": {
      "name": "python"
    }
  },
  "cells": [
    {
      "cell_type": "markdown",
      "metadata": {
        "id": "view-in-github",
        "colab_type": "text"
      },
      "source": [
        "<a href=\"https://colab.research.google.com/github/mihakodric/Dinamika/blob/main/Vaja_3.ipynb\" target=\"_parent\"><img src=\"https://colab.research.google.com/assets/colab-badge.svg\" alt=\"Open In Colab\"/></a>"
      ]
    },
    {
      "cell_type": "markdown",
      "source": [
        "# Vaja 3: Kinetika masne točke\n",
        "\n",
        "## Gibalna količina: $\\mathbf{p}=m \\cdot \\mathbf{v}$\n",
        "\n",
        ">#### Impulzni stavek\n",
        "$\\int\\mathbf{F}\\text{d}t=\\int\\text{d}\\mathbf{p}$\n",
        "\n",
        "## Vrtilna količina: $\\mathbf{L}=\\mathbf{r}\\times\\mathbf{v}$\n",
        "\n",
        ">#### Impulzni stavek\n",
        "$\\int\\mathbf{M}\\text{d}t=\\int\\text{d}\\mathbf{L}$\n",
        "\n",
        "## II. Newtonow zakon: $\\sum_{i} \\mathbf{F}_{i} = m \\cdot \\mathbf{a}$\n",
        "\n",
        ">#### Kartezijev KS\n",
        "$\\sum_{i} \\mathbf{F}_{i} = m \\cdot \\left(\n",
        "  \\ddot{x}\\,\\mathbf{i}+\\ddot{y}\\,\\mathbf{j}\n",
        "  \\right)$\n",
        "\n",
        ">#### Naravni KS\n",
        "$\\sum_{i} \\mathbf{F}_{i} = m \\cdot \\left(\n",
        "  \\dot{v}\\,\\mathbf{e}_{\\text{t}}\n",
        "  +\n",
        "  \\frac{v^2}{\\rho}\\,\\mathbf{e}_{\\text{n}}\n",
        "  \\right)$\n",
        "\n",
        ">#### Polarni KS\n",
        "$\\sum_{i} \\mathbf{F}_{i} = m \\cdot \\left(\n",
        "  \\left(\\ddot{r}-r\\,\\ddot{\\varphi}^2\\right)\\mathbf{e}_{\\text{r}}\n",
        "  +  \n",
        "  \\left(r\\,\\ddot{\\varphi}+2\\,\\dot{r}\\,\\dot{\\varphi}\\right)\\mathbf{e}_{\\varphi}\n",
        "  \\right)$\n",
        "\n",
        "## Energijske razmere\n",
        ">#### Mehansko delo sile\n",
        "$W = \\int F_{\\text{t}} \\text{d}s$\n",
        "\n",
        ">#### Kinetična energija\n",
        "$W_{\\text{k}} = \\frac{m\\cdot v^2}{2}$\n",
        "\n",
        ">#### Potencialna energija\n",
        ">> Položajna: $W_{\\text{k}} = \\frac{m\\cdot v^2}{2}$\n",
        ">\n",
        ">> Vzmetna: $W_{\\text{k}} = \\frac{k\\cdot x^2}{2}$ ali $W_{\\text{k}} = \\frac{k_{\\text{t}}\\cdot \\varphi^2}{2}$"
      ],
      "metadata": {
        "id": "Sq66r0MBDYoH"
      }
    },
    {
      "cell_type": "markdown",
      "source": [
        "# Naloga 1\n",
        "Pri vrtenju bobna pralnega stroja opazite, da se oblačila ločijo od stene pri kotu $\\varphi_1$. Določite kotno hitrost bobna $\\omega$. Predpostavite, da lopatice preprečujejo zdrs oblačil."
      ],
      "metadata": {
        "id": "P7ecNkZAV1dA"
      }
    },
    {
      "cell_type": "code",
      "source": [
        "import numpy as np\n",
        "import matplotlib.pyplot as plt"
      ],
      "metadata": {
        "id": "t2S4fLz9DXpd"
      },
      "execution_count": null,
      "outputs": []
    },
    {
      "cell_type": "code",
      "source": [
        "phi_1=50 # stopinj\n",
        "R=330*10**-3 # mm\n",
        "g=9.81\n",
        "\n",
        "omega = np.sqrt(g*np.sin(np.deg2rad(phi_1))/R)\n",
        "omega"
      ],
      "metadata": {
        "id": "25DaTcCYXBxz",
        "colab": {
          "base_uri": "https://localhost:8080/"
        },
        "outputId": "d945e929-39f1-459e-882d-f19e4ae580ab"
      },
      "execution_count": null,
      "outputs": [
        {
          "output_type": "execute_result",
          "data": {
            "text/plain": [
              "4.7720448532897946"
            ]
          },
          "metadata": {},
          "execution_count": 33
        }
      ]
    },
    {
      "cell_type": "code",
      "source": [
        "# ob predpostavki da je masa perila 1 kg izračunamo koliko znaša vrednost sile v normalni (NKS) oziroma radialni smeri (PKS)\n",
        "m = 1 # kg\n",
        "phi = np.linspace(0, 90, 1000)\n",
        "F_N = m * (omega**2*R**2 / R)-m * g * np.sin(np.deg2rad(phi))\n",
        "\n",
        "plt.plot(phi, F_N)\n",
        "plt.grid()\n",
        "plt.axvline(50, c=\"k\")\n",
        "\n",
        "plt.xlabel(\"$\\phi^{\\circ}$\")\n",
        "plt.ylabel(\"$F_{\\text{N}}$\")"
      ],
      "metadata": {
        "colab": {
          "base_uri": "https://localhost:8080/",
          "height": 304
        },
        "id": "MCOxkhsGtVL1",
        "outputId": "1376a958-a1d7-43f7-af67-355f484377e6"
      },
      "execution_count": null,
      "outputs": [
        {
          "output_type": "execute_result",
          "data": {
            "text/plain": [
              "Text(0, 0.5, '$F_{\\text{N}}$')"
            ]
          },
          "metadata": {},
          "execution_count": 34
        },
        {
          "output_type": "display_data",
          "data": {
            "image/png": "[encoded data removed]",
            "text/plain": [
              "<Figure size 432x288 with 1 Axes>"
            ]
          },
          "metadata": {
            "needs_background": "light"
          }
        }
      ]
    },
    {
      "cell_type": "markdown",
      "source": [
        "# Naloga 2\n",
        "Valjasti zamašek A z maso $m_A$ spustimo po gladki, krožni površini z radijem $R$. Zamašek se zagozdi v kladi C. Zapišite izraz za razdaljo $S$, ki jo klada in zamašek opravita, preden se ustavita. Koeficient trenja $\\mu$ je podan."
      ],
      "metadata": {
        "id": "U2E5E3FGaWvZ"
      }
    },
    {
      "cell_type": "code",
      "source": [
        "# ta naloga se rešuje simbolno, saj podatki niso definirani. Glejte zapiske z vaj."
      ],
      "metadata": {
        "id": "HOCVwlbwaV1A"
      },
      "execution_count": 1,
      "outputs": []
    },
    {
      "cell_type": "markdown",
      "source": [
        "# Naloga 3\n",
        "Lunarni modul mase $m$ se spušča na površje Lune s hitrostjo $v_z$, ko vključi zaviralne rakete, kot je prikazano na grafu. Izračunajte hitrost modula pri času $t_3$, ob predpostavki, da takrat modul še ni pristal. Upoštevajte gravitacijski pospešek na Luni $\\rightarrow~g_L = 1,62$ m/s$^2$."
      ],
      "metadata": {
        "id": "SkKM9rfAjbq0"
      }
    },
    {
      "cell_type": "code",
      "source": [
        "m = 200\n",
        "v_z = 6\n",
        "F_1 = 800\n",
        "t_1 = 2\n",
        "t_2 = 4\n",
        "t_3 = 5\n",
        "g_L = 1.62"
      ],
      "metadata": {
        "id": "Zz7N5t8olHAP"
      },
      "execution_count": null,
      "outputs": []
    },
    {
      "cell_type": "code",
      "source": [
        "v_3 = 1/m * (-(F_1*t_1) / 2 - F_1 * (t_2-t_1)) + g_L*t_3 + v_z\n",
        "v_3"
      ],
      "metadata": {
        "colab": {
          "base_uri": "https://localhost:8080/"
        },
        "id": "MLBGxGchkou5",
        "outputId": "f007de56-a6cd-4fa5-f085-618e5d6cc9ef"
      },
      "execution_count": null,
      "outputs": [
        {
          "output_type": "execute_result",
          "data": {
            "text/plain": [
              "2.1000000000000014"
            ]
          },
          "metadata": {},
          "execution_count": 37
        }
      ]
    },
    {
      "cell_type": "code",
      "source": [
        ""
      ],
      "metadata": {
        "id": "uHAiwIqk3_A6"
      },
      "execution_count": null,
      "outputs": []
    }
  ]
}