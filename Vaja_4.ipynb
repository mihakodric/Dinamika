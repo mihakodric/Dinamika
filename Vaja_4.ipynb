{
  "nbformat": 4,
  "nbformat_minor": 0,
  "metadata": {
    "colab": {
      "name": "Vaja 4.ipynb",
      "provenance": [],
      "collapsed_sections": [],
      "toc_visible": true,
      "authorship_tag": "ABX9TyMjt5yOOcsoEkHjRRLvfrEG",
      "include_colab_link": true
    },
    "kernelspec": {
      "name": "python3",
      "display_name": "Python 3"
    },
    "language_info": {
      "name": "python"
    }
  },
  "cells": [
    {
      "cell_type": "markdown",
      "metadata": {
        "id": "view-in-github",
        "colab_type": "text"
      },
      "source": [
        "<a href=\"https://colab.research.google.com/github/mihakodric/Dinamika/blob/main/Vaja_4.ipynb\" target=\"_parent\"><img src=\"https://colab.research.google.com/assets/colab-badge.svg\" alt=\"Open In Colab\"/></a>"
      ]
    },
    {
      "cell_type": "markdown",
      "source": [
        "# Vaja 4: Kinetika masne točke\n",
        "\n",
        "## Gibalna količina: $\\mathbf{p}=m \\cdot \\mathbf{v}$\n",
        "\n",
        ">#### Impulzni stavek\n",
        "$\\int\\mathbf{F}\\text{d}t=\\int\\text{d}\\mathbf{p}$\n",
        "\n",
        "## Vrtilna količina: $\\mathbf{L}=\\mathbf{r}\\times\\mathbf{v}$\n",
        "\n",
        ">#### Impulzni stavek\n",
        "$\\int\\mathbf{M}\\text{d}t=\\int\\text{d}\\mathbf{L}$\n",
        "\n",
        "## II. Newtonow zakon: $\\sum_{i} \\mathbf{F}_{i} = m \\cdot \\mathbf{a}$\n",
        "\n",
        ">#### Kartezijev KS\n",
        "$\\sum_{i} \\mathbf{F}_{i} = m \\cdot \\left(\n",
        "  \\ddot{x}\\,\\mathbf{i}+\\ddot{y}\\,\\mathbf{j}\n",
        "  \\right)$\n",
        "\n",
        ">#### Naravni KS\n",
        "$\\sum_{i} \\mathbf{F}_{i} = m \\cdot \\left(\n",
        "  \\dot{v}\\,\\mathbf{e}_{\\text{t}}\n",
        "  +\n",
        "  \\frac{v^2}{\\rho}\\,\\mathbf{e}_{\\text{n}}\n",
        "  \\right)$\n",
        "\n",
        ">#### Polarni KS\n",
        "$\\sum_{i} \\mathbf{F}_{i} = m \\cdot \\left(\n",
        "  \\left(\\ddot{r}-r\\,\\ddot{\\varphi}^2\\right)\\mathbf{e}_{\\text{r}}\n",
        "  +  \n",
        "  \\left(r\\,\\ddot{\\varphi}+2\\,\\dot{r}\\,\\dot{\\varphi}\\right)\\mathbf{e}_{\\varphi}\n",
        "  \\right)$\n",
        "\n",
        "## Energijske razmere\n",
        ">#### Mehansko delo sile\n",
        "$W = \\int F_{\\text{t}} \\text{d}s$\n",
        "\n",
        ">#### Kinetična energija\n",
        "$W_{\\text{k}} = \\frac{m\\cdot v^2}{2}$\n",
        "\n",
        ">#### Potencialna energija\n",
        ">> Položajna: $W_{\\text{k}} = \\frac{m\\cdot v^2}{2}$\n",
        ">\n",
        ">> Vzmetna: $W_{\\text{k}} = \\frac{k\\cdot x^2}{2}$ ali $W_{\\text{k}} = \\frac{k_{\\text{t}}\\cdot \\varphi^2}{2}$"
      ],
      "metadata": {
        "id": "Sq66r0MBDYoH"
      }
    },
    {
      "cell_type": "markdown",
      "source": [
        "# Naloga 1\n",
        "Utež mase $m$ drsi brez trenja po vodniku, ki rotira s stalno kotno hitrostjo $\\omega$. V nekem trenutku izpustimo mas pri $r_{0}$. Tik preden masa zleti z droga določite:\n",
        " - radialno komponento hitrosti,\n",
        " - silo, s katero drog pritiska na maso."
      ],
      "metadata": {
        "id": "TxPzID4o-Dd2"
      }
    },
    {
      "cell_type": "code",
      "source": [
        "import numpy as np\n",
        "import matplotlib.pyplot as plt"
      ],
      "metadata": {
        "id": "EcO6OYXF-Nio"
      },
      "execution_count": 1,
      "outputs": []
    },
    {
      "cell_type": "code",
      "source": [
        "r_0 = 0.5\n",
        "R = 1\n",
        "m = 1\n",
        "omega = 10\n",
        "\n",
        "def v_r(r):\n",
        "  return np.sqrt(omega**2*(r**2-r_0**2))\n",
        "\n",
        "def F(r):\n",
        "  return m*2*v_r(r)*omega\n",
        "\n",
        "r = np.linspace(r_0, R, 100)\n",
        "\n",
        "plt.plot(r, v_r(r))\n",
        "plt.xlabel(\"r [m]\")\n",
        "plt.ylabel(\"$v_r$ [m/s]\")\n",
        "plt.grid()"
      ],
      "metadata": {
        "colab": {
          "base_uri": "https://localhost:8080/",
          "height": 279
        },
        "id": "XsVKzkbX-PIn",
        "outputId": "dfeded60-fd4e-4199-aae2-f73746fc7ccb"
      },
      "execution_count": 2,
      "outputs": [
        {
          "output_type": "display_data",
          "data": {
            "text/plain": [
              "<Figure size 432x288 with 1 Axes>"
            ],
            "image/png": "[encoded data removed]"
          },
          "metadata": {
            "needs_background": "light"
          }
        }
      ]
    },
    {
      "cell_type": "code",
      "source": [
        "v_r(R)"
      ],
      "metadata": {
        "colab": {
          "base_uri": "https://localhost:8080/"
        },
        "id": "fS3umqGX_NLO",
        "outputId": "127194e0-e57a-467c-a406-7f3c6b291bef"
      },
      "execution_count": 3,
      "outputs": [
        {
          "output_type": "execute_result",
          "data": {
            "text/plain": [
              "8.660254037844387"
            ]
          },
          "metadata": {},
          "execution_count": 3
        }
      ]
    },
    {
      "cell_type": "code",
      "source": [
        "plt.plot(r, F(r))\n",
        "plt.xlabel(\"r [m]\")\n",
        "plt.ylabel(\"$F$ [N]\")\n",
        "plt.grid()"
      ],
      "metadata": {
        "colab": {
          "base_uri": "https://localhost:8080/",
          "height": 279
        },
        "id": "iBQVGlKq_SLh",
        "outputId": "a31bb65c-3a7c-4b09-c40c-12f085d88e6f"
      },
      "execution_count": 4,
      "outputs": [
        {
          "output_type": "display_data",
          "data": {
            "text/plain": [
              "<Figure size 432x288 with 1 Axes>"
            ],
            "image/png": "[encoded data removed]"
          },
          "metadata": {
            "needs_background": "light"
          }
        }
      ]
    },
    {
      "cell_type": "code",
      "source": [
        "F(R)"
      ],
      "metadata": {
        "colab": {
          "base_uri": "https://localhost:8080/"
        },
        "id": "V7fo_f3-AOUx",
        "outputId": "89fcd72e-a38e-4d4d-bef7-2f7190acae76"
      },
      "execution_count": 5,
      "outputs": [
        {
          "output_type": "execute_result",
          "data": {
            "text/plain": [
              "173.20508075688775"
            ]
          },
          "metadata": {},
          "execution_count": 5
        }
      ]
    },
    {
      "cell_type": "markdown",
      "source": [
        "# Naloga 2\n",
        "S točke A spuščamo majhne pakete na gladko krožno površino polmera $R$ do tekočega traku (točka B). Določite izraz za normalno kontaktno silo $N$ v odvisnosti od kota $\\varphi$. Določite tudi kotno hitrost $\\omega_p$ pogonskega koluta s polmerom $R_p$ tako, da paketi pri prehodu na tekoči trak ne bodo drseli."
      ],
      "metadata": {
        "id": "P7ecNkZAV1dA"
      }
    },
    {
      "cell_type": "code",
      "source": [
        "# Predpostavimo, da je masa paketa 1 kg, zato da lahko vizualiziramo odvisnost vrednosti normalne sile od položaja paketa\n",
        "m = 1 # kg\n",
        "g = 9.81\n",
        "\n",
        "phi = np.linspace(0, 90, 100)\n",
        "F_N = 3 * m * g * np.sin(np.deg2rad(phi))\n",
        "\n",
        "plt.plot(phi, F_N)\n",
        "plt.grid()\n",
        "\n",
        "plt.xlabel(\"$\\phi^{\\circ}$\")\n",
        "plt.ylabel(\"$F_{\\text{N}}$\")"
      ],
      "metadata": {
        "id": "25DaTcCYXBxz",
        "colab": {
          "base_uri": "https://localhost:8080/",
          "height": 300
        },
        "outputId": "b4f83ddd-91d0-45f9-91d7-5351cb80bdc8"
      },
      "execution_count": 6,
      "outputs": [
        {
          "output_type": "execute_result",
          "data": {
            "text/plain": [
              "Text(0, 0.5, '$F_{\\text{N}}$')"
            ]
          },
          "metadata": {},
          "execution_count": 6
        },
        {
          "output_type": "display_data",
          "data": {
            "text/plain": [
              "<Figure size 432x288 with 1 Axes>"
            ],
            "image/png": "[encoded data removed]"
          },
          "metadata": {
            "needs_background": "light"
          }
        }
      ]
    },
    {
      "cell_type": "markdown",
      "source": [
        "# Naloga 3\n",
        "Blok mase $m$ je pritrjen na horizontalno vodilo, po katerem drsi z zanemarljivim trenjem. Preko vrvi deluje na blok konstantna sila $F$. V začetnem položaju A je vzmet togosti $k$ raztegnjena za $x_1$. Izračunajte hitrost bloka $v$, ko doseže točko B, če je bil v točki A izpuščen iz stanja mirovanja."
      ],
      "metadata": {
        "id": "s-pGJqTtj4A2"
      }
    },
    {
      "cell_type": "code",
      "source": [
        "m = 50\n",
        "F = 300\n",
        "c = 0.9\n",
        "b = 1.2\n",
        "x_1 = 0.233\n",
        "k = 80\n",
        "\n",
        "W_12 = F * (np.sqrt(b**2 + c**2)-c)\n",
        "E_M1 = (k * x_1**2)/2\n",
        "\n",
        "# zapišemo enačbo za mehansko energijo na koncu\n",
        "# E_M2 = (m * v**2)/2 + (k * (x_1+b))**2)/2\n",
        "\n",
        "# Hitrost bloka izračunamo z izpostavitvijo hitrosti iz enačbe:\n",
        "# W_12 = E_M2 - E_M1\n",
        "\n",
        "v = np.sqrt((2*(W_12+E_M1)-k*(x_1+b)**2)/m)\n",
        "v"
      ],
      "metadata": {
        "id": "yrTAXQj8iyKA",
        "colab": {
          "base_uri": "https://localhost:8080/"
        },
        "outputId": "9b58e6e8-a4ec-4197-886f-bf40c8645945"
      },
      "execution_count": 7,
      "outputs": [
        {
          "output_type": "execute_result",
          "data": {
            "text/plain": [
              "2.000319974404095"
            ]
          },
          "metadata": {},
          "execution_count": 7
        }
      ]
    },
    {
      "cell_type": "markdown",
      "source": [
        "# Naloga 4\n",
        "Sestav dveh krogel mase $m$ se prosto vrti okrog navpične osi $z$ z vrtilno frekvenco $n_1$. Sila $F$ vzdržuje začetni kot $\\theta_1$. Določite novo kotno hitrost $\\omega_2$, če se sila $F$ poveča in se kot zmanjša na $\\theta_2$. Izračunajte še delo, ki ga opravi sila $F$. Zanemarite maso rok in drsnikov."
      ],
      "metadata": {
        "id": "SkKM9rfAjbq0"
      }
    },
    {
      "cell_type": "code",
      "source": [
        "m = 5\n",
        "n_1 = 40 # obr/min\n",
        "l = 0.3\n",
        "b = 0.1\n",
        "theta_1 = 90 # stopinj\n",
        "theta_2 = 60 # stopinj"
      ],
      "metadata": {
        "id": "Zz7N5t8olHAP"
      },
      "execution_count": null,
      "outputs": []
    },
    {
      "cell_type": "code",
      "source": [
        "omega_1 = 40*2*np.pi/60\n",
        "\n",
        "phi_1 = (180-theta_1)/2\n",
        "phi_2 = (180-theta_2)/2\n",
        "\n",
        "r_1 = b + 2*l*np.sin(np.deg2rad(phi_1))\n",
        "r_2 = b + 2*l*np.sin(np.deg2rad(phi_2))\n",
        "\n",
        "omega_2 = r_1**2/r_2**2*omega_1\n",
        "omega_2"
      ],
      "metadata": {
        "colab": {
          "base_uri": "https://localhost:8080/"
        },
        "id": "MLBGxGchkou5",
        "outputId": "8f7579eb-199e-4df2-fa64-59745e209333"
      },
      "execution_count": null,
      "outputs": [
        {
          "output_type": "execute_result",
          "data": {
            "text/plain": [
              "2.9987800383378898"
            ]
          },
          "metadata": {},
          "execution_count": 9
        }
      ]
    },
    {
      "cell_type": "code",
      "source": [
        "delta_h = 2 * l * (np.cos(np.deg2rad(phi_1))-np.cos(np.deg2rad(phi_2)))\n",
        "W_12 = m*(omega_2**2 * r_2**2 - omega_1**2 * r_1**2 + 2*g*delta_h)\n",
        "W_12"
      ],
      "metadata": {
        "id": "uHAiwIqk3_A6",
        "colab": {
          "base_uri": "https://localhost:8080/"
        },
        "outputId": "41145a97-3e6d-4dc6-ac4a-261672c2e520"
      },
      "execution_count": null,
      "outputs": [
        {
          "output_type": "execute_result",
          "data": {
            "text/plain": [
              "5.340007012365651"
            ]
          },
          "metadata": {},
          "execution_count": 13
        }
      ]
    },
    {
      "cell_type": "code",
      "source": [
        ""
      ],
      "metadata": {
        "id": "xXO6GHRTlXCR"
      },
      "execution_count": null,
      "outputs": []
    }
  ]
}