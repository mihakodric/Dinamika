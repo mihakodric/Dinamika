{
  "nbformat": 4,
  "nbformat_minor": 0,
  "metadata": {
    "colab": {
      "name": "Vaja 12.ipynb",
      "provenance": [],
      "collapsed_sections": [],
      "toc_visible": true,
      "authorship_tag": "ABX9TyOrS5rCqKXFE2qZaxVJLzdY",
      "include_colab_link": true
    },
    "kernelspec": {
      "name": "python3",
      "display_name": "Python 3"
    },
    "language_info": {
      "name": "python"
    }
  },
  "cells": [
    {
      "cell_type": "markdown",
      "metadata": {
        "id": "view-in-github",
        "colab_type": "text"
      },
      "source": [
        "<a href=\"https://colab.research.google.com/github/mihakodric/Dinamika/blob/main/Vaja_12.ipynb\" target=\"_parent\"><img src=\"https://colab.research.google.com/assets/colab-badge.svg\" alt=\"Open In Colab\"/></a>"
      ]
    },
    {
      "cell_type": "markdown",
      "source": [
        "# Vaja 11: Lastna dušena nihanja\n",
        "\n"
      ],
      "metadata": {
        "id": "Sq66r0MBDYoH"
      }
    },
    {
      "cell_type": "markdown",
      "source": [
        "# Naloga 1\n",
        "Na sliki je prikazana tovorna tehtnica s premično ploščo mase $m_p$, dvema vzmetema togosti $k$ in dušilko s koeficientom dušenja $d$. Za tehtnico na sliki določite:\n",
        " - lastno nedušeno krožno frekvenco $\\omega_0$,\n",
        " - razmernik dušenja $\\delta$.\n",
        "Kakšna je lastna krožna frekvenca $\\omega_{0,t}$, če je na tehtnici tovornjak mase $m_t$? Kakšna je tedaj dušena lastna krožna frekvenca $\\omega_{0d,t}$? Privzemite, da se tehtnica lahko premika samo v vertikalni smeri."
      ],
      "metadata": {
        "id": "TxPzID4o-Dd2"
      }
    },
    {
      "cell_type": "code",
      "source": [
        "import numpy as np\n",
        "import matplotlib.pyplot as plt"
      ],
      "metadata": {
        "id": "EcO6OYXF-Nio"
      },
      "execution_count": 2,
      "outputs": []
    },
    {
      "cell_type": "code",
      "source": [
        "mp = 25*10**3\n",
        "mt = 10*10**3\n",
        "k = 400*10**3\n",
        "d = 50*10**3\n",
        "\n",
        "omega0 = np.sqrt((2*k) / (mp))\n",
        "delta = d / (2*omega0*mp)\n",
        "omega0, delta"
      ],
      "metadata": {
        "colab": {
          "base_uri": "https://localhost:8080/"
        },
        "id": "XsVKzkbX-PIn",
        "outputId": "19335fe7-9256-4677-c661-d6b44187079c"
      },
      "execution_count": 4,
      "outputs": [
        {
          "output_type": "execute_result",
          "data": {
            "text/plain": [
              "(5.656854249492381, 0.17677669529663687)"
            ]
          },
          "metadata": {},
          "execution_count": 4
        }
      ]
    },
    {
      "cell_type": "code",
      "source": [
        "omega0 = np.sqrt((2*k) / (mp+mt))\n",
        "delta = d / (2*omega0*(mp+mt))\n",
        "omega0d = omega0 * np.sqrt(1-delta**2)\n",
        "omega0, delta, omega0d"
      ],
      "metadata": {
        "colab": {
          "base_uri": "https://localhost:8080/"
        },
        "id": "n6utrXJK3_i9",
        "outputId": "821a7892-d8b2-4557-de4a-8596f77307a2"
      },
      "execution_count": 5,
      "outputs": [
        {
          "output_type": "execute_result",
          "data": {
            "text/plain": [
              "(4.780914437337574, 0.14940357616679922, 4.727254887935513)"
            ]
          },
          "metadata": {},
          "execution_count": 5
        }
      ]
    },
    {
      "cell_type": "markdown",
      "source": [
        "# Naloga 2\n",
        "Na sliki je masa v obliki črke T, ki je eden od elementov med menjalnikom in prestavno ročico avtomobila ter zagotavlja bolj udobno prestavljanje.\n",
        " - Izračunajte lastno nedušeno $\\omega_0$ in lastno dušeno $\\omega_{0d}$ krožno frekvenco sistema, če je masa vpeta kot je prikazano na sliki.\n",
        " - Kakšna mora biti togost vzmeti $k_z$, da je lastna nedušena krožna frekvenca $\\omega_0$ enaka $n_z=6000$ obr/min? Za koliko odstotkov je v tem primeru $\\omega_{0d,z}$ manjša od $\\omega_{0,z}$?\n",
        "Pri reševanju zanemarite vpliv težnosti ter predpostavite majhne premike."
      ],
      "metadata": {
        "id": "P7ecNkZAV1dA"
      }
    },
    {
      "cell_type": "code",
      "source": [
        "k = 100*10**3\n",
        "d = 10\n",
        "JA = 0.003\n",
        "a = 0.06\n",
        "nz = 6000\n",
        "\n",
        "omega0 = np.sqrt((k*a**2) / (JA))\n",
        "delta = (d*a**2) / (2*omega0*JA)\n",
        "omega0d = omega0 * np.sqrt(1-delta**2)\n",
        "omega0, delta, omega0d"
      ],
      "metadata": {
        "id": "25DaTcCYXBxz",
        "colab": {
          "base_uri": "https://localhost:8080/"
        },
        "outputId": "45595e6d-da34-4d90-ba46-1c36f84a61ef"
      },
      "execution_count": 8,
      "outputs": [
        {
          "output_type": "execute_result",
          "data": {
            "text/plain": [
              "(346.41016151377545, 0.017320508075688773, 346.3581960918494)"
            ]
          },
          "metadata": {},
          "execution_count": 8
        }
      ]
    },
    {
      "cell_type": "code",
      "source": [
        "omega0z = nz*2*np.pi / 60\n",
        "\n",
        "kz = omega0z**2 * JA / a**2\n",
        "deltaz = (d * a**2) / (2 * omega0z * JA)\n",
        "omega0dz = omega0z * np.sqrt(1-deltaz**2)\n",
        "\n",
        "omega0z, deltaz, omega0dz"
      ],
      "metadata": {
        "colab": {
          "base_uri": "https://localhost:8080/"
        },
        "id": "RvrydxAH5Cy6",
        "outputId": "1a6d7db2-d622-41a2-9bf6-5398b1d469ca"
      },
      "execution_count": 9,
      "outputs": [
        {
          "output_type": "execute_result",
          "data": {
            "text/plain": [
              "(628.3185307179587, 0.009549296585513718, 628.2898821750788)"
            ]
          },
          "metadata": {},
          "execution_count": 9
        }
      ]
    },
    {
      "cell_type": "markdown",
      "source": [
        "# Naloga 3\n",
        "S kolegi ste se odločili ustanoviti podjetje za izdelavo odskočnih desk za skoke v vodo. Domnevate, da je za sistem vzmet-deska optimalno, če je lastna frekvenca usklajena s trajanjem odskoka ($T/2$), tako da velja $\\omega_0=2\\pi/T$.\n",
        "\n",
        " - Če najprej dušenje zanemarite, potem določite potrebno togost vzmeti $k$, da bo lastna frekvenca sistema vzmet-deska znašala $\\omega_0$.\n",
        " - Ko imate znano togost $k$ določite tak razmernik dušenja $\\delta$, da se bo amplituda nihanja po odskoku skakalca (sistem deska-vzmet-dušilka) v času $2T$ zmanjšala na desetino začetne vrednosti.\n",
        "\n",
        "Zanemarite vpliv težnosti."
      ],
      "metadata": {
        "id": "s-pGJqTtj4A2"
      }
    },
    {
      "cell_type": "code",
      "source": [
        "# predpostavimo podatke\n",
        "l = 2\n",
        "m = 25\n",
        "T = 0.2\n",
        "t_ = 2*T\n",
        "\n",
        "omega0 = (2*np.pi) / T\n",
        "JA = 1/3 * m * l**2\n",
        "\n",
        "k = JA * omega0**2\n",
        "k"
      ],
      "metadata": {
        "id": "yrTAXQj8iyKA",
        "colab": {
          "base_uri": "https://localhost:8080/"
        },
        "outputId": "b7054670-1859-4d7f-9b25-751472fef29f"
      },
      "execution_count": 30,
      "outputs": [
        {
          "output_type": "execute_result",
          "data": {
            "text/plain": [
              "32898.681336964524"
            ]
          },
          "metadata": {},
          "execution_count": 30
        }
      ]
    },
    {
      "cell_type": "code",
      "source": [
        "n = t_/T\n",
        "delta = np.log(10/1) / (2*np.pi*n)\n",
        "delta"
      ],
      "metadata": {
        "colab": {
          "base_uri": "https://localhost:8080/"
        },
        "id": "sIk-tGbBOFjb",
        "outputId": "afe3ea66-0818-4e65-e039-f9180805fe53"
      },
      "execution_count": 31,
      "outputs": [
        {
          "output_type": "execute_result",
          "data": {
            "text/plain": [
              "0.18323389971985696"
            ]
          },
          "metadata": {},
          "execution_count": 31
        }
      ]
    },
    {
      "cell_type": "code",
      "source": [
        "delta =  np.log(10/1) / (omega0*t_)\n",
        "delta"
      ],
      "metadata": {
        "colab": {
          "base_uri": "https://localhost:8080/"
        },
        "id": "nS8-kHPcPB3k",
        "outputId": "b93538a4-fc54-4bbf-82f5-e809ae39256a"
      },
      "execution_count": 32,
      "outputs": [
        {
          "output_type": "execute_result",
          "data": {
            "text/plain": [
              "0.18323389971985696"
            ]
          },
          "metadata": {},
          "execution_count": 32
        }
      ]
    },
    {
      "cell_type": "code",
      "source": [
        "# prepis zasuka v odvisnosti od časa:\n",
        "# predpostavimo začetne pogoje:\n",
        "# phi(t=0)=phi0\n",
        "# phi'(t=0)=0\n",
        "\n",
        "phi0 = 0.2\n",
        "\n",
        "def ovojnica(t):\n",
        "  return np.exp(-delta*omega0*t)*phi0\n",
        "\n",
        "def phi(t):\n",
        "  omega0d = omega0*np.sqrt(1-delta**2)\n",
        "  return ovojnica(t)*np.cos(omega0d*t)\n",
        "\n",
        "t = np.linspace(0, t_*2, 1000)\n",
        "\n",
        "plt.plot(t, phi(t))\n",
        "plt.plot(t, ovojnica(t), \"C1\", alpha = 0.5)\n",
        "plt.plot(t, -ovojnica(t), \"C1\", alpha = 0.5)\n",
        "plt.xlabel(\"$t$ [s]\")\n",
        "plt.ylabel(\"$\\phi$ [rad]\")\n",
        "plt.grid();"
      ],
      "metadata": {
        "colab": {
          "base_uri": "https://localhost:8080/",
          "height": 283
        },
        "id": "IOK_h9HsRZaI",
        "outputId": "529f9b0d-121f-4dfd-ba6f-1ebb35446255"
      },
      "execution_count": 41,
      "outputs": [
        {
          "output_type": "display_data",
          "data": {
            "text/plain": [
              "<Figure size 432x288 with 1 Axes>"
            ],
            "image/png": "[encoded data removed]"
          },
          "metadata": {
            "needs_background": "light"
          }
        }
      ]
    },
    {
      "cell_type": "code",
      "source": [
        ""
      ],
      "metadata": {
        "id": "PmmD1HZXRkGv"
      },
      "execution_count": null,
      "outputs": []
    }
  ]
}